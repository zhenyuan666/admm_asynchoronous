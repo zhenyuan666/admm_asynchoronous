{
 "cells": [
  {
   "cell_type": "code",
   "execution_count": 1,
   "metadata": {
    "collapsed": true
   },
   "outputs": [],
   "source": [
    "import scipy.io as sio\n",
    "import numpy as np\n",
    "import matplotlib.pyplot as plt\n",
    "main_folder = '/Users/zhenyuanliu/Dropbox/Spring2018/CS267/project/asychronous/async_jump/'\n",
    "# main_folder2 = '/Users/zhenyuanliu/Dropbox/Spring2018/CS267/project/asychronous/async_variable/'"
   ]
  },
  {
   "cell_type": "code",
   "execution_count": 2,
   "metadata": {
    "collapsed": true
   },
   "outputs": [],
   "source": [
    "c = 1\n",
    "a = 2\n",
    "b = 2"
   ]
  },
  {
   "cell_type": "code",
   "execution_count": 359,
   "metadata": {
    "collapsed": true
   },
   "outputs": [],
   "source": [
    "temp1 = '_Sinit512_N512_tau5_m1200_n20000_'\n",
    "temp2 = '_Sinit448_N512_tau5_m1200_n20000_'\n",
    "temp3 = '_Sinit384_N512_tau5_m1200_n20000_'\n",
    "temp4 = '_Sinit320_N512_tau5_m1200_n20000_'"
   ]
  },
  {
   "cell_type": "code",
   "execution_count": 23,
   "metadata": {
    "collapsed": true
   },
   "outputs": [],
   "source": [
    "temp1 = '_Sinit256_N256_tau5_m2400_n20000_'\n",
    "temp2 = '_Sinit224_N256_tau5_m2400_n20000_'\n",
    "temp3 = '_Sinit192_N256_tau5_m2400_n20000_'\n",
    "temp4 = '_Sinit160_N256_tau5_m2400_n20000_'"
   ]
  },
  {
   "cell_type": "code",
   "execution_count": 3,
   "metadata": {
    "collapsed": true
   },
   "outputs": [],
   "source": [
    "temp1 = '_Sinit128_N128_tau5_m4800_n20000_'\n",
    "temp2 = '_Sinit112_N128_tau5_m4800_n20000_'\n",
    "temp3 = '_Sinit96_N128_tau5_m4800_n20000_'\n",
    "temp4 = '_Sinit80_N128_tau5_m4800_n20000_'"
   ]
  },
  {
   "cell_type": "code",
   "execution_count": 4,
   "metadata": {
    "collapsed": true
   },
   "outputs": [],
   "source": [
    "## communication time\n",
    "filename = main_folder + 'comm_time' + temp1 + str(c)  + '.npy'\n",
    "comm_time_1 = np.load(filename)\n",
    "for i in range(a, b):\n",
    "    filename = main_folder + 'comm_time' + temp1 + str(i) + '.npy'\n",
    "    comm_time_1 += np.load(filename)\n",
    "comm_time_1 = comm_time_1/(b+1-a)\n",
    "\n",
    "## inverse time\n",
    "\n",
    "\n",
    "## total time\n",
    "filename = main_folder + 'total_time' + temp1 + str(c)  + '.npy'\n",
    "total_time_1 = np.load(filename)\n",
    "for i in range(a, b):\n",
    "    filename = main_folder + 'total_time' + temp1 + str(i) + '.npy'\n",
    "    total_time_1 += np.load(filename)\n",
    "total_time_1 = total_time_1/(b+1-a)\n",
    "\n",
    "## number of updates per core\n",
    "filename = main_folder + 'num_update' + temp1 + str(c)  + '.npy'\n",
    "num_update_1 = np.load(filename)\n",
    "for i in range(a, b):\n",
    "    filename = main_folder + 'num_update' + temp1 + str(i) + '.npy'\n",
    "    num_update_1 += np.load(filename)\n",
    "num_update_1 = num_update_1/(b+1-a)\n",
    "\n",
    "## total_losses\n",
    "filename = main_folder + 'total_losses' + temp1 + str(c)  + '.npy'\n",
    "total_losses_1 = np.load(filename)\n",
    "for i in range(a, b):\n",
    "    filename = main_folder + 'total_losses' + temp1 + str(i) + '.npy'\n",
    "    total_losses_1 += np.load(filename)\n",
    "total_losses_1 = total_losses_1/(b+1-a)"
   ]
  },
  {
   "cell_type": "code",
   "execution_count": 5,
   "metadata": {
    "collapsed": true
   },
   "outputs": [],
   "source": [
    "## communication time\n",
    "filename = main_folder + 'comm_time' + temp2 + str(c)  + '.npy'\n",
    "comm_time_2 = np.load(filename)\n",
    "for i in range(a, b):\n",
    "    filename = main_folder + 'comm_time' + temp2 + str(i) + '.npy'\n",
    "    comm_time_2 += np.load(filename)\n",
    "comm_time_2 = comm_time_2/(b+1-a)\n",
    "\n",
    "## inverse time\n",
    "\n",
    "\n",
    "## total time\n",
    "filename = main_folder + 'total_time' + temp2 + str(c)  + '.npy'\n",
    "total_time_2 = np.load(filename)\n",
    "for i in range(a, b):\n",
    "    filename = main_folder + 'total_time' + temp2 + str(i) + '.npy'\n",
    "    total_time_2 += np.load(filename)\n",
    "total_time_2 = total_time_2/(b+1-a)\n",
    "\n",
    "## number of updates per core\n",
    "filename = main_folder + 'num_update' + temp2 + str(c)  + '.npy'\n",
    "num_update_2 = np.load(filename)\n",
    "for i in range(a, b):\n",
    "    filename = main_folder + 'num_update' + temp2 + str(i) + '.npy'\n",
    "    num_update_2 += np.load(filename)\n",
    "num_update_2 = num_update_2/(b+1-a)\n",
    "\n",
    "## total_losses\n",
    "filename = main_folder + 'total_losses' + temp2 + str(c)  + '.npy'\n",
    "total_losses_2 = np.load(filename)\n",
    "for i in range(a, b):\n",
    "    filename = main_folder + 'total_losses' + temp2 + str(i) + '.npy'\n",
    "    total_losses_2 += np.load(filename)\n",
    "total_losses_2 = total_losses_2/(b+1-a)"
   ]
  },
  {
   "cell_type": "code",
   "execution_count": 6,
   "metadata": {
    "collapsed": true
   },
   "outputs": [],
   "source": [
    "## communication time\n",
    "filename = main_folder + 'comm_time' + temp3 + str(c)  + '.npy'\n",
    "comm_time_3 = np.load(filename)\n",
    "for i in range(a, b):\n",
    "    filename = main_folder + 'comm_time' + temp3 + str(i) + '.npy'\n",
    "    comm_time_3 += np.load(filename)\n",
    "comm_time_3 = comm_time_3/(b+1-a)\n",
    "\n",
    "## inverse time\n",
    "\n",
    "\n",
    "## total time\n",
    "filename = main_folder + 'total_time' + temp3 + str(c)  + '.npy'\n",
    "total_time_3 = np.load(filename)\n",
    "for i in range(a, b):\n",
    "    filename = main_folder + 'total_time' + temp3 + str(i) + '.npy'\n",
    "    total_time_3 += np.load(filename)\n",
    "total_time_3 = total_time_3/(b+1-a)\n",
    "\n",
    "## number of updates per core\n",
    "filename = main_folder + 'num_update' + temp3 + str(c)  + '.npy'\n",
    "num_update_3 = np.load(filename)\n",
    "for i in range(a, b):\n",
    "    filename = main_folder + 'num_update' + temp3 + str(i) + '.npy'\n",
    "    num_update_3 += np.load(filename)\n",
    "num_update_3 = num_update_3/(b+1-a)\n",
    "\n",
    "## total_losses\n",
    "filename = main_folder + 'total_losses' + temp3 + str(c)  + '.npy'\n",
    "total_losses_3 = np.load(filename)\n",
    "for i in range(a, b):\n",
    "    filename = main_folder + 'total_losses' + temp3 + str(i) + '.npy'\n",
    "    total_losses_3 += np.load(filename)\n",
    "total_losses_3 = total_losses_3/(b+1-a)"
   ]
  },
  {
   "cell_type": "code",
   "execution_count": 7,
   "metadata": {
    "collapsed": true
   },
   "outputs": [],
   "source": [
    "## communication time\n",
    "filename = main_folder + 'comm_time' + temp4 + str(c)  + '.npy'\n",
    "comm_time_4 = np.load(filename)\n",
    "for i in range(a, b):\n",
    "    filename = main_folder + 'comm_time' + temp4 + str(i) + '.npy'\n",
    "    comm_time_4 += np.load(filename)\n",
    "comm_time_4 = comm_time_4/(b+1-a)\n",
    "\n",
    "## inverse time\n",
    "\n",
    "\n",
    "## total time\n",
    "filename = main_folder + 'total_time' + temp4 + str(c)  + '.npy'\n",
    "total_time_4 = np.load(filename)\n",
    "for i in range(a, b):\n",
    "    filename = main_folder + 'total_time' + temp4 + str(i) + '.npy'\n",
    "    total_time_4 += np.load(filename)\n",
    "total_time_4 = total_time_4/(b+1-a)\n",
    "\n",
    "## number of updates per core\n",
    "filename = main_folder + 'num_update' + temp4 + str(c)  + '.npy'\n",
    "num_update_4 = np.load(filename)\n",
    "for i in range(a, b):\n",
    "    filename = main_folder + 'num_update' + temp4 + str(i) + '.npy'\n",
    "    num_update_4 += np.load(filename)\n",
    "num_update_4 = num_update_4/(b+1-a)\n",
    "\n",
    "## total_losses\n",
    "filename = main_folder + 'total_losses' + temp4 + str(c)  + '.npy'\n",
    "total_losses_4 = np.load(filename)\n",
    "for i in range(a, b):\n",
    "    filename = main_folder + 'total_losses' + temp4 + str(i) + '.npy'\n",
    "    total_losses_4 += np.load(filename)\n",
    "total_losses_4 = total_losses_4/(b+1-a)"
   ]
  },
  {
   "cell_type": "code",
   "execution_count": 8,
   "metadata": {
    "collapsed": true
   },
   "outputs": [],
   "source": [
    "rel_error = 1e-5"
   ]
  },
  {
   "cell_type": "code",
   "execution_count": 9,
   "metadata": {
    "collapsed": true
   },
   "outputs": [],
   "source": [
    "# find the step at which the algorithm converges\n",
    "tmp1 = total_losses_1[1:, :]\n",
    "tmp2 = total_losses_1[-1, :]\n",
    "tmp2 = tmp2.reshape((1, 1))\n",
    "tmp = np.concatenate((tmp1, tmp2), axis = 0)\n",
    "rel_error_1 = abs(tmp - total_losses_1)/total_losses_1\n",
    "tmp3 = np.where(rel_error_1 >= rel_error)\n",
    "step_converge_1 = 1 + tmp3[0][-1]"
   ]
  },
  {
   "cell_type": "code",
   "execution_count": 10,
   "metadata": {
    "collapsed": true
   },
   "outputs": [],
   "source": [
    "# find the step at which the algorithm converges\n",
    "tmp1 = total_losses_2[1:, :]\n",
    "tmp2 = total_losses_2[-1, :]\n",
    "tmp2 = tmp2.reshape((1, 1))\n",
    "tmp = np.concatenate((tmp1, tmp2), axis = 0)\n",
    "rel_error_2 = abs(tmp - total_losses_2)/total_losses_2\n",
    "tmp3 = np.where(rel_error_2 >= rel_error)\n",
    "step_converge_2 = 1 + tmp3[0][-1]"
   ]
  },
  {
   "cell_type": "code",
   "execution_count": 11,
   "metadata": {
    "collapsed": true
   },
   "outputs": [],
   "source": [
    "# find the step at which the algorithm converges\n",
    "tmp1 = total_losses_3[1:, :]\n",
    "tmp2 = total_losses_3[-1, :]\n",
    "tmp2 = tmp2.reshape((1, 1))\n",
    "tmp = np.concatenate((tmp1, tmp2), axis = 0)\n",
    "rel_error_3 = abs(tmp - total_losses_3)/total_losses_3\n",
    "tmp3 = np.where(rel_error_3 >=rel_error)\n",
    "step_converge_3 = 1 + tmp3[0][-1]"
   ]
  },
  {
   "cell_type": "code",
   "execution_count": 12,
   "metadata": {
    "collapsed": true
   },
   "outputs": [],
   "source": [
    "# find the step at which the algorithm converges\n",
    "tmp1 = total_losses_4[1:, :]\n",
    "tmp2 = total_losses_4[-1, :]\n",
    "tmp2 = tmp2.reshape((1, 1))\n",
    "tmp = np.concatenate((tmp1, tmp2), axis = 0)\n",
    "rel_error_4 = abs(tmp - total_losses_4)/total_losses_4\n",
    "tmp3 = np.where(rel_error_4 >=rel_error)\n",
    "step_converge_4 = 1 + tmp3[0][-1]"
   ]
  },
  {
   "cell_type": "code",
   "execution_count": 13,
   "metadata": {},
   "outputs": [
    {
     "name": "stdout",
     "output_type": "stream",
     "text": [
      "[91, 96, 102, 113]\n"
     ]
    }
   ],
   "source": [
    "step_converge = [step_converge_1, step_converge_2,\n",
    "                 step_converge_3, step_converge_4]\n",
    "print(step_converge)"
   ]
  },
  {
   "cell_type": "code",
   "execution_count": 14,
   "metadata": {},
   "outputs": [
    {
     "name": "stdout",
     "output_type": "stream",
     "text": [
      "[ 3208.42022014]\n",
      "[ 3208.43465774]\n",
      "[ 3208.37826727]\n",
      "[ 3208.40727732]\n"
     ]
    }
   ],
   "source": [
    "print(total_losses_1[step_converge_1])\n",
    "print(total_losses_2[step_converge_2])\n",
    "print(total_losses_3[step_converge_3])\n",
    "print(total_losses_4[step_converge_4])"
   ]
  },
  {
   "cell_type": "code",
   "execution_count": 15,
   "metadata": {
    "collapsed": true
   },
   "outputs": [],
   "source": [
    "# \n",
    "time_1 = np.cumsum(total_time_1)\n",
    "time_2 = np.cumsum(total_time_2)\n",
    "time_3 = np.cumsum(total_time_3)\n",
    "time_4 = np.cumsum(total_time_4)"
   ]
  },
  {
   "cell_type": "code",
   "execution_count": 16,
   "metadata": {
    "collapsed": true
   },
   "outputs": [],
   "source": [
    "time_converge_1 = time_1[step_converge_1]\n",
    "time_converge_2 = time_2[step_converge_2]\n",
    "time_converge_3 = time_3[step_converge_3]\n",
    "time_converge_4 = time_4[step_converge_4]\n",
    "time_converge = [time_converge_1, time_converge_2,\n",
    "                time_converge_3, time_converge_4]"
   ]
  },
  {
   "cell_type": "code",
   "execution_count": 17,
   "metadata": {},
   "outputs": [
    {
     "name": "stdout",
     "output_type": "stream",
     "text": [
      "[659.78814220428467, 690.9005184173584, 710.61745047569275, 785.40622758865356]\n"
     ]
    }
   ],
   "source": [
    "print(time_converge)"
   ]
  },
  {
   "cell_type": "code",
   "execution_count": 18,
   "metadata": {},
   "outputs": [
    {
     "name": "stdout",
     "output_type": "stream",
     "text": [
      "26.3498871326\n",
      "23.4037063122\n",
      "58.4470973015\n",
      "58.9436221123\n"
     ]
    }
   ],
   "source": [
    "print(sum(comm_time_1))\n",
    "print(sum(comm_time_2))\n",
    "print(sum(comm_time_3))\n",
    "print(sum(comm_time_4))"
   ]
  },
  {
   "cell_type": "code",
   "execution_count": 19,
   "metadata": {},
   "outputs": [
    {
     "name": "stdout",
     "output_type": "stream",
     "text": [
      "1433.61667538\n",
      "1426.37971902\n",
      "1386.3186686\n",
      "1383.95035481\n"
     ]
    }
   ],
   "source": [
    "print(sum(total_time_1))\n",
    "print(sum(total_time_2))\n",
    "print(sum(total_time_3))\n",
    "print(sum(total_time_4))"
   ]
  },
  {
   "cell_type": "code",
   "execution_count": 20,
   "metadata": {
    "collapsed": true
   },
   "outputs": [],
   "source": [
    "num_update_core_1 =  np.sum(num_update_1, axis=1)\n",
    "num_update_core_2 =  np.sum(num_update_2, axis=1)\n",
    "num_update_core_3 =  np.sum(num_update_3, axis=1)\n",
    "num_update_core_4 =  np.sum(num_update_4, axis=1)"
   ]
  },
  {
   "cell_type": "code",
   "execution_count": 21,
   "metadata": {},
   "outputs": [
    {
     "name": "stdout",
     "output_type": "stream",
     "text": [
      "200.0\n",
      "178.0\n"
     ]
    }
   ],
   "source": [
    "print(max(num_update_core_2[1:]))\n",
    "print(min(num_update_core_2[1:]))"
   ]
  },
  {
   "cell_type": "code",
   "execution_count": 22,
   "metadata": {},
   "outputs": [
    {
     "data": {
      "image/png": "[encoded data removed]",
      "text/plain": [
       "<matplotlib.figure.Figure at 0x108b93f60>"
      ]
     },
     "metadata": {},
     "output_type": "display_data"
    }
   ],
   "source": [
    "plt.hist(num_update_core_2)\n",
    "plt.show()"
   ]
  },
  {
   "cell_type": "code",
   "execution_count": 23,
   "metadata": {},
   "outputs": [
    {
     "name": "stdout",
     "output_type": "stream",
     "text": [
      "200.0\n",
      "174.0\n"
     ]
    }
   ],
   "source": [
    "print(max(num_update_core_3[1:]))\n",
    "print(min(num_update_core_3[1:]))"
   ]
  },
  {
   "cell_type": "code",
   "execution_count": 24,
   "metadata": {},
   "outputs": [
    {
     "data": {
      "image/png": "[encoded data removed]",
      "text/plain": [
       "<matplotlib.figure.Figure at 0x10dbbe6d8>"
      ]
     },
     "metadata": {},
     "output_type": "display_data"
    }
   ],
   "source": [
    "plt.hist(num_update_core_3)\n",
    "plt.show()"
   ]
  },
  {
   "cell_type": "code",
   "execution_count": 25,
   "metadata": {},
   "outputs": [
    {
     "name": "stdout",
     "output_type": "stream",
     "text": [
      "200.0\n",
      "172.0\n"
     ]
    }
   ],
   "source": [
    "print(max(num_update_core_4[1:]))\n",
    "print(min(num_update_core_4[1:]))"
   ]
  },
  {
   "cell_type": "code",
   "execution_count": 26,
   "metadata": {},
   "outputs": [
    {
     "data": {
      "image/png": "[encoded data removed]",
      "text/plain": [
       "<matplotlib.figure.Figure at 0x10dd227b8>"
      ]
     },
     "metadata": {},
     "output_type": "display_data"
    }
   ],
   "source": [
    "plt.hist(num_update_core_4)\n",
    "plt.show()"
   ]
  },
  {
   "cell_type": "code",
   "execution_count": 27,
   "metadata": {
    "collapsed": true
   },
   "outputs": [],
   "source": [
    "#\n",
    "time_1 = np.cumsum(total_time_1)\n",
    "time_2 = np.cumsum(total_time_2)\n",
    "time_3 = np.cumsum(total_time_3)\n",
    "time_4 = np.cumsum(total_time_4)\n"
   ]
  },
  {
   "cell_type": "code",
   "execution_count": 29,
   "metadata": {
    "collapsed": true
   },
   "outputs": [],
   "source": [
    "#\n",
    "time_step_1 = range(200)\n",
    "time_step_2 = range(200)\n",
    "time_step_3 = range(200)\n",
    "time_step_4 = range(200)"
   ]
  },
  {
   "cell_type": "code",
   "execution_count": 30,
   "metadata": {},
   "outputs": [
    {
     "data": {
      "image/png": "[encoded data removed]",
      "text/plain": [
       "<matplotlib.figure.Figure at 0x10dcfd160>"
      ]
     },
     "metadata": {},
     "output_type": "display_data"
    }
   ],
   "source": [
    "plt.figure(figsize=(12, 4))\n",
    "#\n",
    "plt.subplot(121)\n",
    "plt.semilogy(time_step_1[0:], total_losses_1[0:], 'k')\n",
    "plt.semilogy(time_step_3[0:], total_losses_3[0:], 'g')\n",
    "plt.semilogy(time_step_4[0:], total_losses_4[0:], 'b')\n",
    "plt.xlabel('# iterations (1)')\n",
    "plt.ylabel('objective function value')\n",
    "plt.legend(('S = 128', 'S = 96', 'S = 80'))\n",
    "\n",
    "#\n",
    "plt.subplot(122)\n",
    "plt.loglog(time_1[0:], total_losses_1[0:], 'k')\n",
    "plt.loglog(time_3[0:], total_losses_3[0:], 'b')\n",
    "plt.loglog(time_4[0:], total_losses_4[0:], 'g')\n",
    "plt.xlabel('time elapsed (s)')\n",
    "plt.ylabel('objective function value')\n",
    "plt.legend(('S = 128', 'S = 96', 'S = 80'))\n",
    "plt.savefig('hybrid_128.eps', format='eps', dpi=1000)\n",
    "plt.show()"
   ]
  },
  {
   "cell_type": "code",
   "execution_count": 35,
   "metadata": {
    "collapsed": true
   },
   "outputs": [],
   "source": [
    "comm_time_effective_1 = sum(comm_time_1[0:step_converge_1+1])\n",
    "comm_time_effective_2 = sum(comm_time_2[0:step_converge_2+1])\n",
    "comm_time_effective_3 = sum(comm_time_3[0:step_converge_3+1])\n",
    "comm_time_effective_4 = sum(comm_time_4[0:step_converge_4+1])\n",
    "comm_time_effective = np.array((comm_time_effective_1,\n",
    "                                comm_time_effective_2, comm_time_effective_3, comm_time_effective_4))"
   ]
  },
  {
   "cell_type": "code",
   "execution_count": 36,
   "metadata": {},
   "outputs": [
    {
     "data": {
      "text/plain": [
       "array([ 12.83549929,  11.41150188,  26.80922246,  31.90658784])"
      ]
     },
     "execution_count": 36,
     "metadata": {},
     "output_type": "execute_result"
    }
   ],
   "source": [
    "comm_time_effective"
   ]
  },
  {
   "cell_type": "code",
   "execution_count": 37,
   "metadata": {
    "collapsed": true
   },
   "outputs": [],
   "source": [
    "total_time_effective_1 = sum(total_time_1[0:step_converge_1+1])\n",
    "total_time_effective_2 = sum(total_time_2[0:step_converge_2+1])\n",
    "total_time_effective_3 = sum(total_time_3[0:step_converge_3+1])\n",
    "total_time_effective_4 = sum(total_time_4[0:step_converge_4+1])\n",
    "total_time_effective = np.array((total_time_effective_1,\n",
    "                                 total_time_effective_2, total_time_effective_3, total_time_effective_4))"
   ]
  },
  {
   "cell_type": "code",
   "execution_count": 38,
   "metadata": {},
   "outputs": [
    {
     "data": {
      "text/plain": [
       "array([ 659.7881422 ,  690.90051842,  710.61745048,  785.40622759])"
      ]
     },
     "execution_count": 38,
     "metadata": {},
     "output_type": "execute_result"
    }
   ],
   "source": [
    "total_time_effective"
   ]
  },
  {
   "cell_type": "code",
   "execution_count": null,
   "metadata": {
    "collapsed": true
   },
   "outputs": [],
   "source": []
  },
  {
   "cell_type": "code",
   "execution_count": null,
   "metadata": {
    "collapsed": true
   },
   "outputs": [],
   "source": []
  }
 ],
 "metadata": {
  "kernelspec": {
   "display_name": "Python 3",
   "language": "python",
   "name": "python3"
  },
  "language_info": {
   "codemirror_mode": {
    "name": "ipython",
    "version": 3
   },
   "file_extension": ".py",
   "mimetype": "text/x-python",
   "name": "python",
   "nbconvert_exporter": "python",
   "pygments_lexer": "ipython3",
   "version": "3.6.2"
  }
 },
 "nbformat": 4,
 "nbformat_minor": 2
}
