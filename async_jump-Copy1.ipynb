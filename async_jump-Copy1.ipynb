{
 "cells": [
  {
   "cell_type": "code",
   "execution_count": 21,
   "metadata": {
    "collapsed": true
   },
   "outputs": [],
   "source": [
    "import scipy.io as sio\n",
    "import numpy as np\n",
    "import matplotlib.pyplot as plt\n",
    "main_folder = '/Users/zhenyuanliu/Dropbox/Spring2018/CS267/project/asychronous/async_jump/'\n",
    "# main_folder2 = '/Users/zhenyuanliu/Dropbox/Spring2018/CS267/project/asychronous/async_variable/'"
   ]
  },
  {
   "cell_type": "code",
   "execution_count": 22,
   "metadata": {
    "collapsed": true
   },
   "outputs": [],
   "source": [
    "c = 1\n",
    "a = 2\n",
    "b = 2"
   ]
  },
  {
   "cell_type": "code",
   "execution_count": 359,
   "metadata": {
    "collapsed": true
   },
   "outputs": [],
   "source": [
    "temp1 = '_Sinit512_N512_tau5_m1200_n20000_'\n",
    "temp2 = '_Sinit448_N512_tau5_m1200_n20000_'\n",
    "temp3 = '_Sinit384_N512_tau5_m1200_n20000_'\n",
    "temp4 = '_Sinit320_N512_tau5_m1200_n20000_'"
   ]
  },
  {
   "cell_type": "code",
   "execution_count": 23,
   "metadata": {
    "collapsed": true
   },
   "outputs": [],
   "source": [
    "temp1 = '_Sinit256_N256_tau5_m2400_n20000_'\n",
    "temp2 = '_Sinit224_N256_tau5_m2400_n20000_'\n",
    "temp3 = '_Sinit192_N256_tau5_m2400_n20000_'\n",
    "temp4 = '_Sinit160_N256_tau5_m2400_n20000_'"
   ]
  },
  {
   "cell_type": "code",
   "execution_count": 24,
   "metadata": {
    "collapsed": true
   },
   "outputs": [],
   "source": [
    "## communication time\n",
    "filename = main_folder + 'comm_time' + temp1 + str(c)  + '.npy'\n",
    "comm_time_1 = np.load(filename)\n",
    "for i in range(a, b):\n",
    "    filename = main_folder + 'comm_time' + temp1 + str(i) + '.npy'\n",
    "    comm_time_1 += np.load(filename)\n",
    "comm_time_1 = comm_time_1/(b+1-a)\n",
    "\n",
    "## inverse time\n",
    "\n",
    "\n",
    "## total time\n",
    "filename = main_folder + 'total_time' + temp1 + str(c)  + '.npy'\n",
    "total_time_1 = np.load(filename)\n",
    "for i in range(a, b):\n",
    "    filename = main_folder + 'total_time' + temp1 + str(i) + '.npy'\n",
    "    total_time_1 += np.load(filename)\n",
    "total_time_1 = total_time_1/(b+1-a)\n",
    "\n",
    "## number of updates per core\n",
    "filename = main_folder + 'num_update' + temp1 + str(c)  + '.npy'\n",
    "num_update_1 = np.load(filename)\n",
    "for i in range(a, b):\n",
    "    filename = main_folder + 'num_update' + temp1 + str(i) + '.npy'\n",
    "    num_update_1 += np.load(filename)\n",
    "num_update_1 = num_update_1/(b+1-a)\n",
    "\n",
    "## total_losses\n",
    "filename = main_folder + 'total_losses' + temp1 + str(c)  + '.npy'\n",
    "total_losses_1 = np.load(filename)\n",
    "for i in range(a, b):\n",
    "    filename = main_folder + 'total_losses' + temp1 + str(i) + '.npy'\n",
    "    total_losses_1 += np.load(filename)\n",
    "total_losses_1 = total_losses_1/(b+1-a)"
   ]
  },
  {
   "cell_type": "code",
   "execution_count": 25,
   "metadata": {
    "collapsed": true
   },
   "outputs": [],
   "source": [
    "## communication time\n",
    "filename = main_folder + 'comm_time' + temp2 + str(c)  + '.npy'\n",
    "comm_time_2 = np.load(filename)\n",
    "for i in range(a, b):\n",
    "    filename = main_folder + 'comm_time' + temp2 + str(i) + '.npy'\n",
    "    comm_time_2 += np.load(filename)\n",
    "comm_time_2 = comm_time_2/(b+1-a)\n",
    "\n",
    "## inverse time\n",
    "\n",
    "\n",
    "## total time\n",
    "filename = main_folder + 'total_time' + temp2 + str(c)  + '.npy'\n",
    "total_time_2 = np.load(filename)\n",
    "for i in range(a, b):\n",
    "    filename = main_folder + 'total_time' + temp2 + str(i) + '.npy'\n",
    "    total_time_2 += np.load(filename)\n",
    "total_time_2 = total_time_2/(b+1-a)\n",
    "\n",
    "## number of updates per core\n",
    "filename = main_folder + 'num_update' + temp2 + str(c)  + '.npy'\n",
    "num_update_2 = np.load(filename)\n",
    "for i in range(a, b):\n",
    "    filename = main_folder + 'num_update' + temp2 + str(i) + '.npy'\n",
    "    num_update_2 += np.load(filename)\n",
    "num_update_2 = num_update_2/(b+1-a)\n",
    "\n",
    "## total_losses\n",
    "filename = main_folder + 'total_losses' + temp2 + str(c)  + '.npy'\n",
    "total_losses_2 = np.load(filename)\n",
    "for i in range(a, b):\n",
    "    filename = main_folder + 'total_losses' + temp2 + str(i) + '.npy'\n",
    "    total_losses_2 += np.load(filename)\n",
    "total_losses_2 = total_losses_2/(b+1-a)"
   ]
  },
  {
   "cell_type": "code",
   "execution_count": 26,
   "metadata": {
    "collapsed": true
   },
   "outputs": [],
   "source": [
    "## communication time\n",
    "filename = main_folder + 'comm_time' + temp3 + str(c)  + '.npy'\n",
    "comm_time_3 = np.load(filename)\n",
    "for i in range(a, b):\n",
    "    filename = main_folder + 'comm_time' + temp3 + str(i) + '.npy'\n",
    "    comm_time_3 += np.load(filename)\n",
    "comm_time_3 = comm_time_3/(b+1-a)\n",
    "\n",
    "## inverse time\n",
    "\n",
    "\n",
    "## total time\n",
    "filename = main_folder + 'total_time' + temp3 + str(c)  + '.npy'\n",
    "total_time_3 = np.load(filename)\n",
    "for i in range(a, b):\n",
    "    filename = main_folder + 'total_time' + temp3 + str(i) + '.npy'\n",
    "    total_time_3 += np.load(filename)\n",
    "total_time_3 = total_time_3/(b+1-a)\n",
    "\n",
    "## number of updates per core\n",
    "filename = main_folder + 'num_update' + temp3 + str(c)  + '.npy'\n",
    "num_update_3 = np.load(filename)\n",
    "for i in range(a, b):\n",
    "    filename = main_folder + 'num_update' + temp3 + str(i) + '.npy'\n",
    "    num_update_3 += np.load(filename)\n",
    "num_update_3 = num_update_3/(b+1-a)\n",
    "\n",
    "## total_losses\n",
    "filename = main_folder + 'total_losses' + temp3 + str(c)  + '.npy'\n",
    "total_losses_3 = np.load(filename)\n",
    "for i in range(a, b):\n",
    "    filename = main_folder + 'total_losses' + temp3 + str(i) + '.npy'\n",
    "    total_losses_3 += np.load(filename)\n",
    "total_losses_3 = total_losses_3/(b+1-a)"
   ]
  },
  {
   "cell_type": "code",
   "execution_count": 27,
   "metadata": {
    "collapsed": true
   },
   "outputs": [],
   "source": [
    "## communication time\n",
    "filename = main_folder + 'comm_time' + temp4 + str(c)  + '.npy'\n",
    "comm_time_4 = np.load(filename)\n",
    "for i in range(a, b):\n",
    "    filename = main_folder + 'comm_time' + temp4 + str(i) + '.npy'\n",
    "    comm_time_4 += np.load(filename)\n",
    "comm_time_4 = comm_time_4/(b+1-a)\n",
    "\n",
    "## inverse time\n",
    "\n",
    "\n",
    "## total time\n",
    "filename = main_folder + 'total_time' + temp4 + str(c)  + '.npy'\n",
    "total_time_4 = np.load(filename)\n",
    "for i in range(a, b):\n",
    "    filename = main_folder + 'total_time' + temp4 + str(i) + '.npy'\n",
    "    total_time_4 += np.load(filename)\n",
    "total_time_4 = total_time_4/(b+1-a)\n",
    "\n",
    "## number of updates per core\n",
    "filename = main_folder + 'num_update' + temp4 + str(c)  + '.npy'\n",
    "num_update_4 = np.load(filename)\n",
    "for i in range(a, b):\n",
    "    filename = main_folder + 'num_update' + temp4 + str(i) + '.npy'\n",
    "    num_update_4 += np.load(filename)\n",
    "num_update_4 = num_update_4/(b+1-a)\n",
    "\n",
    "## total_losses\n",
    "filename = main_folder + 'total_losses' + temp4 + str(c)  + '.npy'\n",
    "total_losses_4 = np.load(filename)\n",
    "for i in range(a, b):\n",
    "    filename = main_folder + 'total_losses' + temp4 + str(i) + '.npy'\n",
    "    total_losses_4 += np.load(filename)\n",
    "total_losses_4 = total_losses_4/(b+1-a)"
   ]
  },
  {
   "cell_type": "code",
   "execution_count": 28,
   "metadata": {
    "collapsed": true
   },
   "outputs": [],
   "source": [
    "rel_error = 1e-5"
   ]
  },
  {
   "cell_type": "code",
   "execution_count": 29,
   "metadata": {
    "collapsed": true
   },
   "outputs": [],
   "source": [
    "# find the step at which the algorithm converges\n",
    "tmp1 = total_losses_1[1:, :]\n",
    "tmp2 = total_losses_1[-1, :]\n",
    "tmp2 = tmp2.reshape((1, 1))\n",
    "tmp = np.concatenate((tmp1, tmp2), axis = 0)\n",
    "rel_error_1 = abs(tmp - total_losses_1)/total_losses_1\n",
    "tmp3 = np.where(rel_error_1 >= rel_error)\n",
    "step_converge_1 = 1 + tmp3[0][-1]"
   ]
  },
  {
   "cell_type": "code",
   "execution_count": 30,
   "metadata": {
    "collapsed": true
   },
   "outputs": [],
   "source": [
    "# find the step at which the algorithm converges\n",
    "tmp1 = total_losses_2[1:, :]\n",
    "tmp2 = total_losses_2[-1, :]\n",
    "tmp2 = tmp2.reshape((1, 1))\n",
    "tmp = np.concatenate((tmp1, tmp2), axis = 0)\n",
    "rel_error_2 = abs(tmp - total_losses_2)/total_losses_2\n",
    "tmp3 = np.where(rel_error_2 >= rel_error)\n",
    "step_converge_2 = 1 + tmp3[0][-1]"
   ]
  },
  {
   "cell_type": "code",
   "execution_count": 31,
   "metadata": {
    "collapsed": true
   },
   "outputs": [],
   "source": [
    "# find the step at which the algorithm converges\n",
    "tmp1 = total_losses_3[1:, :]\n",
    "tmp2 = total_losses_3[-1, :]\n",
    "tmp2 = tmp2.reshape((1, 1))\n",
    "tmp = np.concatenate((tmp1, tmp2), axis = 0)\n",
    "rel_error_3 = abs(tmp - total_losses_3)/total_losses_3\n",
    "tmp3 = np.where(rel_error_3 >=rel_error)\n",
    "step_converge_3 = 1 + tmp3[0][-1]"
   ]
  },
  {
   "cell_type": "code",
   "execution_count": 32,
   "metadata": {
    "collapsed": true
   },
   "outputs": [],
   "source": [
    "# find the step at which the algorithm converges\n",
    "tmp1 = total_losses_4[1:, :]\n",
    "tmp2 = total_losses_4[-1, :]\n",
    "tmp2 = tmp2.reshape((1, 1))\n",
    "tmp = np.concatenate((tmp1, tmp2), axis = 0)\n",
    "rel_error_4 = abs(tmp - total_losses_4)/total_losses_4\n",
    "tmp3 = np.where(rel_error_4 >=rel_error)\n",
    "step_converge_4 = 1 + tmp3[0][-1]"
   ]
  },
  {
   "cell_type": "code",
   "execution_count": 34,
   "metadata": {},
   "outputs": [
    {
     "name": "stdout",
     "output_type": "stream",
     "text": [
      "[191, 198, 199, 197]\n"
     ]
    }
   ],
   "source": [
    "step_converge = [step_converge_1, step_converge_2,\n",
    "                 step_converge_3, step_converge_4]\n",
    "print(step_converge)"
   ]
  },
  {
   "cell_type": "code",
   "execution_count": 35,
   "metadata": {},
   "outputs": [
    {
     "name": "stdout",
     "output_type": "stream",
     "text": [
      "[ 3208.46448604]\n",
      "[ 3208.45550134]\n",
      "[ 3208.54526806]\n",
      "[ 3208.48155015]\n"
     ]
    }
   ],
   "source": [
    "print(total_losses_1[step_converge_1])\n",
    "print(total_losses_2[step_converge_2])\n",
    "print(total_losses_3[step_converge_3])\n",
    "print(total_losses_4[step_converge_4])"
   ]
  },
  {
   "cell_type": "code",
   "execution_count": 36,
   "metadata": {
    "collapsed": true
   },
   "outputs": [],
   "source": [
    "# \n",
    "time_1 = np.cumsum(total_time_1)\n",
    "time_2 = np.cumsum(total_time_2)\n",
    "time_3 = np.cumsum(total_time_3)\n",
    "time_4 = np.cumsum(total_time_4)"
   ]
  },
  {
   "cell_type": "code",
   "execution_count": 37,
   "metadata": {
    "collapsed": true
   },
   "outputs": [],
   "source": [
    "time_converge_1 = time_1[step_converge_1]\n",
    "time_converge_2 = time_2[step_converge_2]\n",
    "time_converge_3 = time_3[step_converge_3]\n",
    "time_converge_4 = time_4[step_converge_4]\n",
    "time_converge = [time_converge_1, time_converge_2,\n",
    "                time_converge_3, time_converge_4]"
   ]
  },
  {
   "cell_type": "code",
   "execution_count": 38,
   "metadata": {},
   "outputs": [
    {
     "name": "stdout",
     "output_type": "stream",
     "text": [
      "[274.36411786079407, 284.62671852111816, 281.72968029975891, 277.12575507164001]\n"
     ]
    }
   ],
   "source": [
    "print(time_converge)"
   ]
  },
  {
   "cell_type": "code",
   "execution_count": 41,
   "metadata": {},
   "outputs": [
    {
     "name": "stdout",
     "output_type": "stream",
     "text": [
      "118.37756753\n",
      "129.220756054\n",
      "124.285584688\n",
      "126.348844528\n"
     ]
    }
   ],
   "source": [
    "print(sum(comm_time_1))\n",
    "print(sum(comm_time_2))\n",
    "print(sum(comm_time_3))\n",
    "print(sum(comm_time_4))"
   ]
  },
  {
   "cell_type": "code",
   "execution_count": 42,
   "metadata": {},
   "outputs": [
    {
     "name": "stdout",
     "output_type": "stream",
     "text": [
      "568.684756041\n",
      "579.312835217\n",
      "575.331515789\n",
      "575.991359949\n"
     ]
    }
   ],
   "source": [
    "print(sum(total_time_1))\n",
    "print(sum(total_time_2))\n",
    "print(sum(total_time_3))\n",
    "print(sum(total_time_4))"
   ]
  },
  {
   "cell_type": "code",
   "execution_count": 43,
   "metadata": {
    "collapsed": true
   },
   "outputs": [],
   "source": [
    "num_update_core_1 =  np.sum(num_update_1, axis=1)\n",
    "num_update_core_2 =  np.sum(num_update_2, axis=1)\n",
    "num_update_core_3 =  np.sum(num_update_3, axis=1)\n",
    "num_update_core_4 =  np.sum(num_update_4, axis=1)"
   ]
  },
  {
   "cell_type": "code",
   "execution_count": 44,
   "metadata": {},
   "outputs": [
    {
     "name": "stdout",
     "output_type": "stream",
     "text": [
      "400.0\n",
      "354.0\n"
     ]
    }
   ],
   "source": [
    "print(max(num_update_core_2[1:]))\n",
    "print(min(num_update_core_2[1:]))"
   ]
  },
  {
   "cell_type": "code",
   "execution_count": 45,
   "metadata": {},
   "outputs": [
    {
     "data": {
      "image/png": "[encoded data removed]",
      "text/plain": [
       "<matplotlib.figure.Figure at 0x10fed0780>"
      ]
     },
     "metadata": {},
     "output_type": "display_data"
    }
   ],
   "source": [
    "plt.hist(num_update_core_2)\n",
    "plt.show()"
   ]
  },
  {
   "cell_type": "code",
   "execution_count": 46,
   "metadata": {},
   "outputs": [
    {
     "name": "stdout",
     "output_type": "stream",
     "text": [
      "400.0\n",
      "349.0\n"
     ]
    }
   ],
   "source": [
    "print(max(num_update_core_3[1:]))\n",
    "print(min(num_update_core_3[1:]))"
   ]
  },
  {
   "cell_type": "code",
   "execution_count": 47,
   "metadata": {},
   "outputs": [
    {
     "data": {
      "image/png": "[encoded data removed]",
      "text/plain": [
       "<matplotlib.figure.Figure at 0x10fecf518>"
      ]
     },
     "metadata": {},
     "output_type": "display_data"
    }
   ],
   "source": [
    "plt.hist(num_update_core_3)\n",
    "plt.show()"
   ]
  },
  {
   "cell_type": "code",
   "execution_count": 48,
   "metadata": {},
   "outputs": [
    {
     "name": "stdout",
     "output_type": "stream",
     "text": [
      "400.0\n",
      "344.0\n"
     ]
    }
   ],
   "source": [
    "print(max(num_update_core_4[1:]))\n",
    "print(min(num_update_core_4[1:]))"
   ]
  },
  {
   "cell_type": "code",
   "execution_count": 49,
   "metadata": {},
   "outputs": [
    {
     "data": {
      "image/png": "[encoded data removed]",
      "text/plain": [
       "<matplotlib.figure.Figure at 0x1139f0ef0>"
      ]
     },
     "metadata": {},
     "output_type": "display_data"
    }
   ],
   "source": [
    "plt.hist(num_update_core_4)\n",
    "plt.show()"
   ]
  },
  {
   "cell_type": "code",
   "execution_count": 50,
   "metadata": {
    "collapsed": true
   },
   "outputs": [],
   "source": [
    "#\n",
    "time_1 = np.cumsum(total_time_1)\n",
    "time_2 = np.cumsum(total_time_2)\n",
    "time_3 = np.cumsum(total_time_3)\n",
    "time_4 = np.cumsum(total_time_4)\n"
   ]
  },
  {
   "cell_type": "code",
   "execution_count": 53,
   "metadata": {
    "collapsed": true
   },
   "outputs": [],
   "source": [
    "#\n",
    "time_step_1 = range(400)\n",
    "time_step_2 = range(400)\n",
    "time_step_3 = range(400)\n",
    "time_step_4 = range(400)"
   ]
  },
  {
   "cell_type": "code",
   "execution_count": 56,
   "metadata": {},
   "outputs": [
    {
     "data": {
      "image/png": "[encoded data removed]",
      "text/plain": [
       "<matplotlib.figure.Figure at 0x1819f76978>"
      ]
     },
     "metadata": {},
     "output_type": "display_data"
    }
   ],
   "source": [
    "plt.figure(figsize=(12, 4))\n",
    "#\n",
    "plt.subplot(121)\n",
    "plt.semilogy(time_step_1[0:], total_losses_1[0:], 'k')\n",
    "plt.semilogy(time_step_3[0:], total_losses_3[0:], 'g')\n",
    "plt.semilogy(time_step_4[0:], total_losses_4[0:], 'b')\n",
    "plt.xlabel('# iterations (1)')\n",
    "plt.ylabel('objective function value')\n",
    "plt.legend(('S = 256', 'S = 192', 'S = 160'))\n",
    "\n",
    "#\n",
    "plt.subplot(122)\n",
    "plt.loglog(time_1[0:], total_losses_1[0:], 'k')\n",
    "plt.loglog(time_3[0:], total_losses_3[0:], 'b')\n",
    "plt.loglog(time_4[0:], total_losses_4[0:], 'g')\n",
    "plt.xlabel('time elapsed (s)')\n",
    "plt.ylabel('objective function value')\n",
    "plt.legend(('S = 256', 'S = 192', 'S = 160'))\n",
    "plt.savefig('hybrid_256.eps', format='eps', dpi=1000)\n",
    "plt.show()"
   ]
  },
  {
   "cell_type": "code",
   "execution_count": 61,
   "metadata": {
    "collapsed": true
   },
   "outputs": [],
   "source": [
    "comm_time_effective_1 = sum(comm_time_1[0:step_converge_1+1])\n",
    "comm_time_effective_2 = sum(comm_time_2[0:step_converge_2+1])\n",
    "comm_time_effective_3 = sum(comm_time_3[0:step_converge_3+1])\n",
    "comm_time_effective_4 = sum(comm_time_4[0:step_converge_4+1])\n",
    "comm_time_effective = np.array((comm_time_effective_1,\n",
    "                                comm_time_effective_2, comm_time_effective_3, comm_time_effective_4))"
   ]
  },
  {
   "cell_type": "code",
   "execution_count": 62,
   "metadata": {},
   "outputs": [
    {
     "data": {
      "text/plain": [
       "array([ 58.31897998,  60.86185932,  55.8514452 ,  53.82589722])"
      ]
     },
     "execution_count": 62,
     "metadata": {},
     "output_type": "execute_result"
    }
   ],
   "source": [
    "comm_time_effective"
   ]
  },
  {
   "cell_type": "code",
   "execution_count": 63,
   "metadata": {
    "collapsed": true
   },
   "outputs": [],
   "source": [
    "total_time_effective_1 = sum(total_time_1[0:step_converge_1+1])\n",
    "total_time_effective_2 = sum(total_time_2[0:step_converge_2+1])\n",
    "total_time_effective_3 = sum(total_time_3[0:step_converge_3+1])\n",
    "total_time_effective_4 = sum(total_time_4[0:step_converge_4+1])\n",
    "total_time_effective = np.array((total_time_effective_1,\n",
    "                                 total_time_effective_2, total_time_effective_3, total_time_effective_4))"
   ]
  },
  {
   "cell_type": "code",
   "execution_count": 64,
   "metadata": {},
   "outputs": [
    {
     "data": {
      "text/plain": [
       "array([ 274.36411786,  284.62671852,  281.7296803 ,  277.12575507])"
      ]
     },
     "execution_count": 64,
     "metadata": {},
     "output_type": "execute_result"
    }
   ],
   "source": [
    "total_time_effective"
   ]
  },
  {
   "cell_type": "code",
   "execution_count": null,
   "metadata": {
    "collapsed": true
   },
   "outputs": [],
   "source": []
  }
 ],
 "metadata": {
  "kernelspec": {
   "display_name": "Python 3",
   "language": "python",
   "name": "python3"
  },
  "language_info": {
   "codemirror_mode": {
    "name": "ipython",
    "version": 3
   },
   "file_extension": ".py",
   "mimetype": "text/x-python",
   "name": "python",
   "nbconvert_exporter": "python",
   "pygments_lexer": "ipython3",
   "version": "3.6.2"
  }
 },
 "nbformat": 4,
 "nbformat_minor": 2
}
